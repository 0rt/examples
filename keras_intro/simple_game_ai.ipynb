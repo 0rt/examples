{
 "cells": [
  {
   "cell_type": "markdown",
   "metadata": {},
   "source": [
    "# Demonstration of Reinforcement Learning with Keras\n",
    "\n",
    "The other night, I was given a problem:\n",
    "\n",
    "> Two people are playing a game. Player 1 flips a coin, and gets a point if it's heads. Then Player 2 decides to flip any number of coins, and gets two to the power of that number of coins minus one  (2<sup>`(n_coins-1)`</sup>) points. The players take turns performing these actions, and the game ends when either player has at least 100 points. What is the probability that player 2 wins with an optimal strategy?\n",
    "\n",
    "If Player 2 flipped one coin each time, he would have a slightly less than 50% chance of winning, since he is going second, but otherwise in the same position as the first player. If he flipped 8 coins at a time, then the probability would be slightly higher (there is a 32% chance that Player 2 would win before player 1 could theoretically win and a ~54% chance that player 2 would win by the Player 1's average win time).\n",
    "\n",
    "Although this is meant to be a statistics problem, I thought this could be a simple example that could be used to demonstrate how to use reinforcement learning and Keras to solve these problems."
   ]
  },
  {
   "cell_type": "markdown",
   "metadata": {},
   "source": [
    "## What is Reinforcement Learning?\n",
    "\n",
    "Reinforcement learning is a way of using machine learning to optimize a result through repetitive simulation/testing. In this case, the training data is a vector-representation of each turn/move that is made by player 2, and the output (result to be optimized) is whether or not the player won that game. \n",
    "\n",
    "## What is Keras?\n",
    "\n",
    "Keras is a neural network library in Python that uses TensorFlow or (to be deprecated) Theano as a backend. It is fairly easy to understand visually, and it is very useful when you don't need very fine control over your neural networks.\n",
    "\n",
    "## Machi Koro Example\n",
    "\n",
    "This past summer I implemented a Keras-based neural network for the board game Machi Koro. \n",
    "\n",
    "* [first post](http://maxcandocia.com/article/2017/Jul/22/using-neural-networks-to-play-board-games/), which focuses more on the general way the code works\n",
    "\n",
    "* [second post](http://maxcandocia.com/article/2017/Jul/30/using-ai-for-machi-koro-strategy/), which dives in to the strategy more by looking at the results of simulations from trained data"
   ]
  },
  {
   "cell_type": "markdown",
   "metadata": {},
   "source": [
    "# Full Code and Explanation\n",
    "\n",
    "Below I have fully functioning code that uses Keras and reinforcement learning to solve the above problem. I put the neural network code into the `AI` class, and I put most of the game logic code in the `Game` class, with the exception of a few helper functions.\n",
    "\n",
    "## \"Temperature\"\n",
    "\n",
    "When I perform reinforcement learning tasks, I usually try to let the computer make more random decisions early on, and then when the neural network is more trained, I want it to prioritize the better decisions, i.e., the ones that have a higher probability of resulting in winning. For *this specific problem*, I randomize the decision of player 2 when initially training, and then slowly make it less random over time by decreasing a \"temperature\" parameter that affects the decision the player makes. In the final iterations, I remove all randomness to allow it to more or less settle on a particular strategy."
   ]
  },
  {
   "cell_type": "code",
   "execution_count": 1,
   "metadata": {},
   "outputs": [
    {
     "name": "stderr",
     "output_type": "stream",
     "text": [
      "Using TensorFlow backend.\n"
     ]
    }
   ],
   "source": [
    "from random import random, seed\n",
    "import keras\n",
    "from keras.models import Sequential\n",
    "from keras.models import load_model\n",
    "from keras.optimizers import SGD\n",
    "from keras.layers import Dense, Activation\n",
    "import numpy as np"
   ]
  },
  {
   "cell_type": "code",
   "execution_count": 2,
   "metadata": {},
   "outputs": [],
   "source": [
    "class AI(object):\n",
    "    \"\"\"\n",
    "    this object contains the neural network formed by Keras and TensorFlow\n",
    "    it does a bit of transforming of input for training and predictions, as\n",
    "    well as storing some data of its own, but that's it\n",
    "    \"\"\"\n",
    "    def __init__(self):\n",
    "        self.initialize_network()\n",
    "        #stores vector representations of the game states\n",
    "        self.history = []\n",
    "        #stores 1s and 0s corresponding to whether player 2 won the game or not\n",
    "        #in the rows from self.history\n",
    "        self.win_history = []\n",
    "        \n",
    "    def initialize_network(self):\n",
    "        \"\"\"\n",
    "        The network consists of:\n",
    "        * an input layer (2 variables to describe the scores of each player, \n",
    "                          and 8 more for the number of coin flips that player 2 can make)\n",
    "        * 3 dense layers\n",
    "        * 1 output softmax (logistic) layer with 2 nodes (theoretically only 1 is needed for a binary output)\n",
    "        \n",
    "        * ReLU activations between the input/dense layers (ReLU(x) = x if x > 0 else 0)\n",
    "        \"\"\"\n",
    "        network = Sequential()\n",
    "        network.add(Dense(12, input_shape = (2 + 8,) ) )\n",
    "        network.add(Activation('relu'))\n",
    "        network.add(Dense(10))\n",
    "        network.add(Activation('relu'))\n",
    "        network.add(Dense(8))\n",
    "        network.add(Activation('relu'))\n",
    "        network.add(Dense(2))\n",
    "        network.add(Activation('softmax'))\n",
    "        opt = keras.optimizers.SGD(nesterov=True,momentum=0.2)\n",
    "        network.compile(loss='categorical_crossentropy',\n",
    "                optimizer=opt,\n",
    "                 metrics=['accuracy'])\n",
    "        self.network = network\n",
    "        \n",
    "    def train(self):\n",
    "        \"\"\"\n",
    "        fits the network with current data;\n",
    "        note that this number of epochs is relatively small compared to the\n",
    "        number  used for other purposes, like image recognition\n",
    "        \"\"\"\n",
    "        x = np.asarray(self.history)\n",
    "        y = keras.utils.to_categorical(self.win_history, 2)\n",
    "        self.network.fit(x, y, \n",
    "                        epochs = 6, batch_size = 500, verbose=0)\n",
    "    \n",
    "    def predict(self, serialized_input):\n",
    "        \"\"\"\n",
    "        returns the probability that the player will win if they make a specific move\n",
    "        \"\"\"\n",
    "        x = np.asarray(serialized_input)[:,0,:]\n",
    "        preds = self.network.predict(x)\n",
    "        return preds[:,1]\n",
    "    \n",
    "    def reset_data(self):\n",
    "        \"\"\"\n",
    "        this code is used when the network has trained a bit and \n",
    "        the older training data looks less like the new training\n",
    "        data because of the decision the player makes\n",
    "        \"\"\"\n",
    "        self.history = []\n",
    "        self.win_history = []\n",
    "    \n",
    "    #I am not using them in this demo, but these are useful to have\n",
    "    def save(self, filename):\n",
    "        self.network.save(filename)\n",
    "    \n",
    "    def load(self, filename):\n",
    "        self.network = load_model(filename)\n",
    "\n",
    "class Game(object):\n",
    "    \"\"\"\n",
    "    this object is meant to be created for each iteration of a simulation\n",
    "    \"\"\"\n",
    "    def __init__(self, choice_temperature=1, premade_AI=None, \n",
    "                fixed_choice=None, record_history=True):\n",
    "        \"\"\"\n",
    "        args:\n",
    "            choice_temperature - non-negative value that allows the AI to make non-optimal moves;\n",
    "                                 the higher the value, the more random;\n",
    "                                 a value of 0 will make the AI choose the move it deems optimal\n",
    "            premade_AI - an AI object that has already been initialized\n",
    "            fixed_choice - for testing purposes; if set to an integer, that is the number of coins it \n",
    "                           will flip for player 2 each time\n",
    "            record_history - if set to false, will not record history; this saves memory when evaluating\n",
    "                             with a large number of iterations\n",
    "        \"\"\"\n",
    "        self.p1_score = 0\n",
    "        self.p2_score = 0\n",
    "        self.end = False\n",
    "        self.record_history = record_history\n",
    "        self.turn = -1\n",
    "        self.fixed_choice = fixed_choice\n",
    "        if premade_AI is None:\n",
    "            self.AI = AI()\n",
    "        else:\n",
    "            self.AI = premade_AI\n",
    "        #stores the vector representation of each move player 2 makes (including game state)\n",
    "        #\n",
    "        self.history = []\n",
    "        self.choice_temperature=choice_temperature\n",
    "        self.p2_win = False\n",
    "        \n",
    "    def run(self):\n",
    "        \"\"\"\n",
    "        plays the game until a player wins\n",
    "        \"\"\"\n",
    "        while not self.end:\n",
    "            self.turn += 1\n",
    "            self.take_p1_turn()\n",
    "            self.check_if_end()\n",
    "            if self.end:\n",
    "                break\n",
    "            self.take_p2_turn()\n",
    "            self.check_if_end()\n",
    "        if self.record_history:\n",
    "            self.AI.history += self.history\n",
    "            if self.p2_win:\n",
    "                self.AI.win_history += [1]*len(self.history)\n",
    "            else:\n",
    "                self.AI.win_history += [0]*len(self.history)\n",
    "        \n",
    "    def take_p1_turn(self):\n",
    "        self.p1_score += flip_coins(1)\n",
    "        \n",
    "    def take_p2_turn(self):\n",
    "        self.p2_decide_n_coins()\n",
    "        self.p2_score += pow(2, self.p2_coins_to_flip -1) * flip_coins(self.p2_coins_to_flip)\n",
    "        \n",
    "    def p2_decide_n_coins(self):\n",
    "        \"\"\"\n",
    "        uses the neural network to determine how many coins should be flipped (unless fixed_choice isn't None)\n",
    "        will randomly choose a number based on the probabilities the network gives, except when \n",
    "        the choice_temperature parameter is 0 (then it will choose the highest probability)\n",
    "        \"\"\"\n",
    "        if self.fixed_choice <> None:\n",
    "            self.p2_coins_to_flip = self.fixed_choice\n",
    "        else:\n",
    "            difference = 100-self.p2_score\n",
    "            max_coins = floor(np.log(difference)/np.log(2)) + 1\n",
    "            #I divide the scores by 100 so they fit in the range [0, 1], which is\n",
    "            #easier for a network to train on\n",
    "            serializations = np.asarray([[[self.p1_score/100.,\n",
    "                                         self.p2_score/100.,\n",
    "                                         ] + onehot_vector(8, i)]\n",
    "                             for i in range(1, max_coins+1)], dtype=np.float32)\n",
    "            probs = self.AI.predict(serializations)\n",
    "            self.p2_coins_to_flip = np.random.choice(range(1, max_coins+1), \n",
    "                                                     p=normalize(probs, self.choice_temperature))\n",
    "        self.history.append([self.p1_score/100., self.p2_score/100.] + onehot_vector(8, self.p2_coins_to_flip-1))\n",
    "    \n",
    "    def reset_history(self, reset_ai_history=False):\n",
    "        self.history = []\n",
    "        if reset_ai_history:\n",
    "            self.AI.reset_data()\n",
    "        self.p2_win = False\n",
    "        self.end = False\n",
    "        self.p1_score = 0\n",
    "        self.p2_score = 0\n",
    "            \n",
    "    def check_if_end(self):\n",
    "        if self.p1_score == 100:\n",
    "            self.end = True\n",
    "        elif self.p2_score >= 100:\n",
    "            self.end = True\n",
    "            self.p2_win = True\n",
    "            \n",
    "    def __str__(self):\n",
    "        return 'P1 score: %s\\nP2 score: %s\\nTotal Turns: %s' % (self.p1_score, self.p2_score, self.turn)\n",
    "        \n",
    "def flip_coins(n_coins):\n",
    "    \"\"\"\n",
    "    returns True if all n_coins are heads; \n",
    "    otherwise returns False\n",
    "    \"\"\"\n",
    "    return random() < 0.5**n_coins\n",
    "\n",
    "def onehot_vector(length, one_index):\n",
    "    \"\"\"\n",
    "    creates the vector representation of the number of coins that should be flipped\n",
    "    \"\"\"\n",
    "    vec = [0]*length\n",
    "    vec[one_index] = 1\n",
    "    return vec\n",
    "\n",
    "epsilon = 1e-6\n",
    "def normalize(probs, temperature=1):\n",
    "    \"\"\"\n",
    "    when temperature is not 0, it raises the probabilities to the power of the inverse of the temperature\n",
    "    and then normalizes them; if temperature is 0, it simply shares the probability among the highest\n",
    "    value(s), but that is almost guaranteed to be one value\n",
    "    \"\"\"\n",
    "    if temperature==0:\n",
    "        new_p = probs * (probs==np.max(probs))\n",
    "    else:    \n",
    "        new_p = probs**(1/temperature)\n",
    "    #avoid truncating issues at low temperatures\n",
    "    new_p = new_p + epsilon\n",
    "    return new_p/np.sum(new_p)\n",
    "\n",
    "def floor(x):\n",
    "    \"\"\"\n",
    "    floor function that should work with floating point errors\n",
    "    \"\"\"\n",
    "    return int(round(np.floor(x+epsilon)))"
   ]
  },
  {
   "cell_type": "code",
   "execution_count": 3,
   "metadata": {},
   "outputs": [
    {
     "name": "stdout",
     "output_type": "stream",
     "text": [
      "P1 score: 100\n",
      "P2 score: 72\n",
      "Total Turns: 199\n"
     ]
    }
   ],
   "source": [
    "#set random seed for reproducibility\n",
    "seed(2017)\n",
    "#test game out\n",
    "test_game = Game()\n",
    "test_game.run()\n",
    "print(test_game)"
   ]
  },
  {
   "cell_type": "markdown",
   "metadata": {},
   "source": [
    "# Test out flipping 8 at a time each time\n",
    "\n",
    "This isn't an optimal strategy, but it is preferred over flipping 1 at a time. It should give us a bit of a benchmark to work with for the neural network."
   ]
  },
  {
   "cell_type": "code",
   "execution_count": 4,
   "metadata": {},
   "outputs": [
    {
     "name": "stdout",
     "output_type": "stream",
     "text": [
      "Player 2 Win Average: 0.543\n",
      "Player 2 95% Confidence Interval: (0.540, 0.546)\n"
     ]
    }
   ],
   "source": [
    "flip_8_wins = []\n",
    "#needed just to avoid initialization each time\n",
    "ai_placeholder = AI()\n",
    "\n",
    "for i in range(100000):\n",
    "    game = Game(premade_AI = ai_placeholder, fixed_choice=8, record_history=False)\n",
    "    game.run()\n",
    "    flip_8_wins.append(1*(game.p2_win))\n",
    "    \n",
    "win_average = np.mean(flip_8_wins)\n",
    "win_sd = np.sqrt(win_average * (1-win_average)/100000.)\n",
    "print 'Player 2 Win Average: %.03f' % win_average\n",
    "print 'Player 2 95%% Confidence Interval: (%.03f, %.03f)' % (win_average - 1.96 * win_sd, \n",
    "                                                       win_average + 1.96 * win_sd)\n",
    "    "
   ]
  },
  {
   "cell_type": "markdown",
   "metadata": {},
   "source": [
    "It looks like the win rate should be roughly 54%, if not higher."
   ]
  },
  {
   "cell_type": "markdown",
   "metadata": {},
   "source": [
    "# Training\n",
    "\n",
    "Let's train the AI for a few rounds of simulations. We can keep track of how frequently player 2 wins over different rounds of training.\n",
    "\n"
   ]
  },
  {
   "cell_type": "code",
   "execution_count": 5,
   "metadata": {},
   "outputs": [
    {
     "name": "stdout",
     "output_type": "stream",
     "text": [
      "history epoch 0\n",
      "history epoch 1\n",
      "history epoch 2\n",
      "history epoch 3\n",
      "history epoch 4\n",
      "history epoch 5\n",
      "history epoch 6\n",
      "EPOCH WIN AVERAGES: \n",
      "[ 0.4952381   0.58095238  0.63333333  0.65952381  0.48095238  0.49047619\n",
      "  0.63809524]\n"
     ]
    }
   ],
   "source": [
    "win_averages = []\n",
    "history_epoch_win_averages = []\n",
    "game_ai = AI()\n",
    "\n",
    "history_epoch_temperatures = [1, 0.5, 0.3, 0.1, 0.01, 0.005, 0]\n",
    "\n",
    "for history_epoch in range(7):\n",
    "    print 'history epoch %s' % history_epoch\n",
    "    for j in range(7):\n",
    "        #print 'training round: %s' % j\n",
    "        wins = []\n",
    "        for i in range(60):\n",
    "            game = Game(choice_temperature=history_epoch_temperatures[history_epoch],\n",
    "                        premade_AI = game_ai)\n",
    "            game.run()\n",
    "            wins.append(game.p2_win*1)\n",
    "        win_averages.append(np.mean(wins))\n",
    "        #print 'Win average %0.2f' % win_averages[j]\n",
    "        game_ai.train()\n",
    "    #refresh data so that training data looks more like current gameplay\n",
    "    game_ai.reset_data()\n",
    "print 'EPOCH WIN AVERAGES: '\n",
    "print np.mean(np.asarray(win_averages).reshape((7, 7)), axis=1)"
   ]
  },
  {
   "cell_type": "code",
   "execution_count": 6,
   "metadata": {},
   "outputs": [
    {
     "name": "stdout",
     "output_type": "stream",
     "text": [
      "Player 2 Win Average: 0.625\n",
      "Player 2 95% Confidence Interval: (0.603, 0.646)\n"
     ]
    }
   ],
   "source": [
    "#final behavior test\n",
    "trained_wins = []\n",
    "\n",
    "for i in range(2000):\n",
    "    game = Game(premade_AI = game_ai, record_history=False, choice_temperature=0)\n",
    "    game.run()\n",
    "    trained_wins.append(1*(game.p2_win))\n",
    "    \n",
    "trained_win_average = np.mean(trained_wins)\n",
    "trained_win_sd = np.sqrt(win_average * (1-win_average)/2000.)\n",
    "print 'Player 2 Win Average: %.03f' % trained_win_average\n",
    "print 'Player 2 95%% Confidence Interval: (%.03f, %.03f)' % (trained_win_average - 1.96 * trained_win_sd, \n",
    "                                                       trained_win_average + 1.96 * trained_win_sd)"
   ]
  },
  {
   "cell_type": "markdown",
   "metadata": {},
   "source": [
    "# Analyzing Results\n",
    "\n",
    "The win rate is around 60%, which is higher than the benchmark of about 54%. Let's see what this network does, exactly."
   ]
  },
  {
   "cell_type": "code",
   "execution_count": 7,
   "metadata": {},
   "outputs": [],
   "source": [
    "#plotting code\n",
    "import matplotlib.pyplot as plt\n",
    "plt.rcdefaults()\n",
    "import matplotlib.pyplot as plt\n",
    "\n",
    "def plot_preds(preds, title):\n",
    "    xlabs = [str(x) for x in range(1, 9)]\n",
    "    ypos = np.arange(len(xlabs))\n",
    "    barplot = plt.bar(ypos, preds, align='center', alpha=0.7)\n",
    "    plt.xticks(ypos, xlabs)\n",
    "    plt.ylabel('probability')\n",
    "    plt.xlabel('Number of Flips')\n",
    "    plt.title(title)\n",
    "    barplot[np.argmax(preds)].set_color('r')\n",
    "    plt.show()"
   ]
  },
  {
   "cell_type": "code",
   "execution_count": 8,
   "metadata": {},
   "outputs": [
    {
     "name": "stdout",
     "output_type": "stream",
     "text": [
      "[ 0.34239021  0.95923543  0.81249905  0.88560355  0.63384247  0.72512621\n",
      "  0.68440664  0.99405152]\n"
     ]
    },
    {
     "data": {
      "image/png": "[encoded data removed]",
      "text/plain": [
       "<matplotlib.figure.Figure at 0x7f516472f090>"
      ]
     },
     "metadata": {},
     "output_type": "display_data"
    }
   ],
   "source": [
    "preds = game_ai.predict([np.asarray([[0.0,0.0] + onehot_vector(8, N)]) for N in range(8)])\n",
    "print preds\n",
    "plot_preds(preds, 'Probability of Player 2 Winning Based on First Flip')"
   ]
  },
  {
   "cell_type": "markdown",
   "metadata": {},
   "source": [
    "With the highest value of probability at the 8th position, it looks like it tries to flip 8 coins initially, which yields 128 points with 1/256 probability, which would instantly win the game. \n",
    "\n",
    "It is obvious, though, that these probabilities are not very accurate, as the win rate should be roughly 60%. However, these only account for the first of a few hundred moves, so the network isn't trying to fit these values any harder than any other ones, making them more prone to error.\n",
    "\n",
    "Does this hold up if player 1 is ahead a bit?"
   ]
  },
  {
   "cell_type": "code",
   "execution_count": 9,
   "metadata": {},
   "outputs": [
    {
     "name": "stdout",
     "output_type": "stream",
     "text": [
      "[ 0.08885646  0.39257035  0.23592898  0.23587571  0.23701109  0.2840803\n",
      "  0.39622968  0.92520273]\n"
     ]
    },
    {
     "data": {
      "image/png": "[encoded data removed]",
      "text/plain": [
       "<matplotlib.figure.Figure at 0x7f5168035d50>"
      ]
     },
     "metadata": {},
     "output_type": "display_data"
    }
   ],
   "source": [
    "preds = game_ai.predict([np.asarray([[0.3,0.0] + onehot_vector(8, N)]) for N in range(8)])\n",
    "print preds\n",
    "plot_preds(preds, 'Probability of Player 2 Winning if Score is 30-0')"
   ]
  },
  {
   "cell_type": "markdown",
   "metadata": {},
   "source": [
    "Yes, at the point that player 1 has 30 points and player 2 has 0, it will switch to flipping 8 coins,as well. Directionally, this makes sense, as flipping 8 coins is not a bad idea when you are behind, but the probability of 0.925 is way too high."
   ]
  },
  {
   "cell_type": "code",
   "execution_count": 10,
   "metadata": {},
   "outputs": [
    {
     "name": "stdout",
     "output_type": "stream",
     "text": [
      "[ 0.00214306  0.01176638  0.00579521  0.00558263  0.01811657  0.01701191\n",
      "  0.02407223  0.05771782]\n"
     ]
    },
    {
     "data": {
      "image/png": "[encoded data removed]",
      "text/plain": [
       "<matplotlib.figure.Figure at 0x7f51199e0c90>"
      ]
     },
     "metadata": {},
     "output_type": "display_data"
    }
   ],
   "source": [
    "preds = game_ai.predict([np.asarray([[0.7,0.0] + onehot_vector(8, N)]) for N in range(8)])\n",
    "print preds\n",
    "plot_preds(preds, 'Probability of Player 2 Winning if Score is 70-0')"
   ]
  },
  {
   "cell_type": "markdown",
   "metadata": {},
   "source": [
    "When player 1 has 70 points, the only chances of player 2 are winning involve flipping 8 coins, and the probability is actually a bit more realistic this time.\n",
    "\n",
    "Note that the above probabilities are heavily skewed to conform to the playstyle that would lead the computer to make those moves. That is, the winning probabilities are strongly associated with the probabilities that the AI had when it was more likely to make that move. If a move fell out of favor as the AI was trained, then the probability is more likely to remain low for that move, since the row representing that move will have fewer rows like it as training goes on.\n"
   ]
  },
  {
   "cell_type": "code",
   "execution_count": 11,
   "metadata": {},
   "outputs": [
    {
     "name": "stdout",
     "output_type": "stream",
     "text": [
      "[ 0.99555379  0.99934679  0.99897337  0.99951446  0.99727803  0.99735212\n",
      "  0.99660122  0.99989069]\n"
     ]
    },
    {
     "data": {
      "image/png": "[encoded data removed]",
      "text/plain": [
       "<matplotlib.figure.Figure at 0x7f5167fdd290>"
      ]
     },
     "metadata": {},
     "output_type": "display_data"
    }
   ],
   "source": [
    "preds = game_ai.predict([np.asarray([[0.2,0.5] + onehot_vector(8, N)]) for N in range(8)])\n",
    "print preds\n",
    "plot_preds(preds, 'Probability of Player 2 Winning if Score is 20-50')"
   ]
  },
  {
   "cell_type": "markdown",
   "metadata": {},
   "source": [
    "Similarly, when player 2 is ahead, the probabilities are skewed towards taking the AI's behavior into account. \n",
    "Additionally, many of these states are unlikely, so the probabilties probably don't affect what it does too much.\n",
    "\n",
    "These probabilities rely too much on the training data, since neural networks tend to fit odd patterns with data that is not very similar to training data. Because there is a strong correlation between what moves the AI makes, statistical inference is not very meaningful when it comes to these probabilities. \n",
    "\n",
    "The neural network architecture (number of layers, layer sizes, etc.) also may not be the best, which limits what kind of behavior the network can have.\n",
    "\n",
    "In this case, the probabilities provide directional guidance for the AI, and *for this specific problem*, reinforcement learning isn't the best way to approach the problem."
   ]
  },
  {
   "cell_type": "markdown",
   "metadata": {},
   "source": [
    "# Additional Thoughts\n",
    "\n",
    "## Reward System\n",
    "\n",
    "The above game is highly probabilistic, and each individual decision is not worth too much, and the expected value in terms of points of each decision is the same. Because of this, I have no additional \"reward\" for the algorithm beyond whether a player won or lost. \n",
    "\n",
    "In other applications of reinforcement learning, short-term gains are used as reward parameters. If these rewards can be predicted, possibly by a second network (or a partially shared network), they could be factored in to the decisionmaking process.\n",
    "\n",
    "## Output Realisticness\n",
    "\n",
    "If the network was trained longer, the probabilities would probably become more realistic. There would need to be a different architecture, as the one I have above is fairly small and can only hold so much information. In the end, the probabilities are dependent on the decisions that the player is going to make (as part of the training process),\n",
    "\n"
   ]
  },
  {
   "cell_type": "code",
   "execution_count": null,
   "metadata": {},
   "outputs": [],
   "source": []
  }
 ],
 "metadata": {
  "kernelspec": {
   "display_name": "Python 2",
   "language": "python",
   "name": "python2"
  },
  "language_info": {
   "codemirror_mode": {
    "name": "ipython",
    "version": 2
   },
   "file_extension": ".py",
   "mimetype": "text/x-python",
   "name": "python",
   "nbconvert_exporter": "python",
   "pygments_lexer": "ipython2",
   "version": "2.7.12"
  }
 },
 "nbformat": 4,
 "nbformat_minor": 2
}
