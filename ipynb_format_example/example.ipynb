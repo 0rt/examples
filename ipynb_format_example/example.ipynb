{
 "cells": [
  {
   "cell_type": "markdown",
   "metadata": {},
   "source": [
    "# Example iPython Notebook\n",
    "\n",
    "Below is a simple example of an iPython notebook embedded in HTML"
   ]
  },
  {
   "cell_type": "code",
   "execution_count": 1,
   "metadata": {},
   "outputs": [],
   "source": [
    "from collections import Counter\n",
    "import json\n",
    "import warnings\n",
    "\n",
    "def empty_counter_warning(func):\n",
    "    def inner_func(*args):\n",
    "        for arg in args:\n",
    "            if isinstance(arg, Counter):\n",
    "                if len(arg)==0:\n",
    "                    warnings.warn('You are using an empty counter object...')\n",
    "        return func(*args)\n",
    "    return inner_func\n",
    "\n",
    "class DotCounter(Counter):\n",
    "    \"\"\"\n",
    "    class that allows counter objects to have elements accessed by dots\n",
    "    rather than just brackets\n",
    "    \"\"\"\n",
    "    __getattr__ = Counter.__getitem__\n",
    "    __setattr__ = Counter.__setitem__\n",
    "    __delattr__ = Counter.__delitem__\n",
    "    \n",
    "    @empty_counter_warning\n",
    "    def __str__(self):\n",
    "        return json.dumps(self, indent=4)\n",
    "    \n",
    "    \n",
    "no_stuff = DotCounter()\n",
    "stuff = DotCounter({'apple':2,\n",
    "                    'orange':1})"
   ]
  },
  {
   "cell_type": "code",
   "execution_count": 2,
   "metadata": {},
   "outputs": [
    {
     "name": "stdout",
     "output_type": "stream",
     "text": [
      "{}\n"
     ]
    },
    {
     "name": "stderr",
     "output_type": "stream",
     "text": [
      "/usr/local/lib/python2.7/dist-packages/ipykernel_launcher.py:10: UserWarning: You are using an empty counter object...\n",
      "  # Remove the CWD from sys.path while we load stuff.\n"
     ]
    }
   ],
   "source": [
    "print no_stuff"
   ]
  },
  {
   "cell_type": "code",
   "execution_count": 3,
   "metadata": {},
   "outputs": [
    {
     "name": "stdout",
     "output_type": "stream",
     "text": [
      "2\n",
      "2\n",
      "{\n",
      "    \"orange\": 2, \n",
      "    \"lemon\": 1, \n",
      "    \"apple\": 2\n",
      "}\n"
     ]
    }
   ],
   "source": [
    "#just printing out a few things\n",
    "print stuff.apple\n",
    "stuff.orange += 1\n",
    "print stuff.banana + 2\n",
    "stuff.lemon+=1\n",
    "print stuff"
   ]
  },
  {
   "cell_type": "code",
   "execution_count": 4,
   "metadata": {},
   "outputs": [
    {
     "ename": "TypeError",
     "evalue": "unsupported operand type(s) for +: 'int' and 'str'",
     "output_type": "error",
     "traceback": [
      "\u001b[0;31m---------------------------------------------------------------------------\u001b[0m",
      "\u001b[0;31mTypeError\u001b[0m                                 Traceback (most recent call last)",
      "\u001b[0;32m<ipython-input-4-f794df300990>\u001b[0m in \u001b[0;36m<module>\u001b[0;34m()\u001b[0m\n\u001b[1;32m      1\u001b[0m \u001b[0;31m#force an error\u001b[0m\u001b[0;34m\u001b[0m\u001b[0;34m\u001b[0m\u001b[0m\n\u001b[0;32m----> 2\u001b[0;31m \u001b[0;36m1\u001b[0m \u001b[0;34m+\u001b[0m \u001b[0;34m'a'\u001b[0m\u001b[0;34m\u001b[0m\u001b[0m\n\u001b[0m",
      "\u001b[0;31mTypeError\u001b[0m: unsupported operand type(s) for +: 'int' and 'str'"
     ]
    }
   ],
   "source": [
    "#force an error\n",
    "1 + 'a'"
   ]
  },
  {
   "cell_type": "code",
   "execution_count": null,
   "metadata": {},
   "outputs": [],
   "source": []
  }
 ],
 "metadata": {
  "kernelspec": {
   "display_name": "Python 2",
   "language": "python",
   "name": "python2"
  },
  "language_info": {
   "codemirror_mode": {
    "name": "ipython",
    "version": 2
   },
   "file_extension": ".py",
   "mimetype": "text/x-python",
   "name": "python",
   "nbconvert_exporter": "python",
   "pygments_lexer": "ipython2",
   "version": "2.7.12"
  }
 },
 "nbformat": 4,
 "nbformat_minor": 2
}
